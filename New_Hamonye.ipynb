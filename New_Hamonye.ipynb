{
  "nbformat": 4,
  "nbformat_minor": 0,
  "metadata": {
    "kernelspec": {
      "display_name": "Python 3",
      "language": "python",
      "name": "python3"
    },
    "language_info": {
      "codemirror_mode": {
        "name": "ipython",
        "version": 3
      },
      "file_extension": ".py",
      "mimetype": "text/x-python",
      "name": "python",
      "nbconvert_exporter": "python",
      "pygments_lexer": "ipython3",
      "version": "3.7.6"
    },
    "colab": {
      "name": "New_Hamonye.ipynb",
      "provenance": [],
      "include_colab_link": true
    }
  },
  "cells": [
    {
      "cell_type": "markdown",
      "metadata": {
        "id": "view-in-github",
        "colab_type": "text"
      },
      "source": [
        "<a href=\"https://colab.research.google.com/github/Danny4life/Background-Generator/blob/master/New_Hamonye.ipynb\" target=\"_parent\"><img src=\"https://colab.research.google.com/assets/colab-badge.svg\" alt=\"Open In Colab\"/></a>"
      ]
    },
    {
      "cell_type": "markdown",
      "metadata": {
        "id": "fStXHb117CNx",
        "colab_type": "text"
      },
      "source": [
        "## Import dataset"
      ]
    },
    {
      "cell_type": "code",
      "metadata": {
        "id": "-LKwpNnf7CNz",
        "colab_type": "code",
        "colab": {}
      },
      "source": [
        "import numpy as np\n",
        "import pandas as pd\n",
        "import matplotlib.pyplot as plt\n",
        "import seaborn as sns\n",
        "\n",
        "%matplotlib inline"
      ],
      "execution_count": null,
      "outputs": []
    },
    {
      "cell_type": "code",
      "metadata": {
        "id": "SvSjFnit7CN6",
        "colab_type": "code",
        "colab": {}
      },
      "source": [
        "fuel_data = pd.read_csv('data.csv')"
      ],
      "execution_count": null,
      "outputs": []
    },
    {
      "cell_type": "code",
      "metadata": {
        "id": "CLIiSKyg7CN_",
        "colab_type": "code",
        "colab": {},
        "outputId": "4be6dd59-41da-45c0-ac9d-de7d6baacc6b"
      },
      "source": [
        "fuel_data.head()"
      ],
      "execution_count": null,
      "outputs": [
        {
          "output_type": "execute_result",
          "data": {
            "text/html": [
              "<div>\n",
              "<style scoped>\n",
              "    .dataframe tbody tr th:only-of-type {\n",
              "        vertical-align: middle;\n",
              "    }\n",
              "\n",
              "    .dataframe tbody tr th {\n",
              "        vertical-align: top;\n",
              "    }\n",
              "\n",
              "    .dataframe thead th {\n",
              "        text-align: right;\n",
              "    }\n",
              "</style>\n",
              "<table border=\"1\" class=\"dataframe\">\n",
              "  <thead>\n",
              "    <tr style=\"text-align: right;\">\n",
              "      <th></th>\n",
              "      <th>record_id</th>\n",
              "      <th>utility_id_ferc1</th>\n",
              "      <th>report_year</th>\n",
              "      <th>plant_name_ferc1</th>\n",
              "      <th>fuel_type_code_pudl</th>\n",
              "      <th>fuel_unit</th>\n",
              "      <th>fuel_qty_burned</th>\n",
              "      <th>fuel_mmbtu_per_unit</th>\n",
              "      <th>fuel_cost_per_unit_burned</th>\n",
              "      <th>fuel_cost_per_unit_delivered</th>\n",
              "      <th>fuel_cost_per_mmbtu</th>\n",
              "    </tr>\n",
              "  </thead>\n",
              "  <tbody>\n",
              "    <tr>\n",
              "      <th>0</th>\n",
              "      <td>f1_fuel_1994_12_1_0_7</td>\n",
              "      <td>1</td>\n",
              "      <td>1994</td>\n",
              "      <td>rockport</td>\n",
              "      <td>coal</td>\n",
              "      <td>ton</td>\n",
              "      <td>5377489.0</td>\n",
              "      <td>16.590</td>\n",
              "      <td>18.59</td>\n",
              "      <td>18.53</td>\n",
              "      <td>1.121</td>\n",
              "    </tr>\n",
              "    <tr>\n",
              "      <th>1</th>\n",
              "      <td>f1_fuel_1994_12_1_0_10</td>\n",
              "      <td>1</td>\n",
              "      <td>1994</td>\n",
              "      <td>rockport total plant</td>\n",
              "      <td>coal</td>\n",
              "      <td>ton</td>\n",
              "      <td>10486945.0</td>\n",
              "      <td>16.592</td>\n",
              "      <td>18.58</td>\n",
              "      <td>18.53</td>\n",
              "      <td>1.120</td>\n",
              "    </tr>\n",
              "    <tr>\n",
              "      <th>2</th>\n",
              "      <td>f1_fuel_1994_12_2_0_1</td>\n",
              "      <td>2</td>\n",
              "      <td>1994</td>\n",
              "      <td>gorgas</td>\n",
              "      <td>coal</td>\n",
              "      <td>ton</td>\n",
              "      <td>2978683.0</td>\n",
              "      <td>24.130</td>\n",
              "      <td>39.72</td>\n",
              "      <td>38.12</td>\n",
              "      <td>1.650</td>\n",
              "    </tr>\n",
              "    <tr>\n",
              "      <th>3</th>\n",
              "      <td>f1_fuel_1994_12_2_0_7</td>\n",
              "      <td>2</td>\n",
              "      <td>1994</td>\n",
              "      <td>barry</td>\n",
              "      <td>coal</td>\n",
              "      <td>ton</td>\n",
              "      <td>3739484.0</td>\n",
              "      <td>23.950</td>\n",
              "      <td>47.21</td>\n",
              "      <td>45.99</td>\n",
              "      <td>1.970</td>\n",
              "    </tr>\n",
              "    <tr>\n",
              "      <th>4</th>\n",
              "      <td>f1_fuel_1994_12_2_0_10</td>\n",
              "      <td>2</td>\n",
              "      <td>1994</td>\n",
              "      <td>chickasaw</td>\n",
              "      <td>gas</td>\n",
              "      <td>mcf</td>\n",
              "      <td>40533.0</td>\n",
              "      <td>1.000</td>\n",
              "      <td>2.77</td>\n",
              "      <td>2.77</td>\n",
              "      <td>2.570</td>\n",
              "    </tr>\n",
              "  </tbody>\n",
              "</table>\n",
              "</div>"
            ],
            "text/plain": [
              "                record_id  utility_id_ferc1  report_year  \\\n",
              "0   f1_fuel_1994_12_1_0_7                 1         1994   \n",
              "1  f1_fuel_1994_12_1_0_10                 1         1994   \n",
              "2   f1_fuel_1994_12_2_0_1                 2         1994   \n",
              "3   f1_fuel_1994_12_2_0_7                 2         1994   \n",
              "4  f1_fuel_1994_12_2_0_10                 2         1994   \n",
              "\n",
              "       plant_name_ferc1 fuel_type_code_pudl fuel_unit  fuel_qty_burned  \\\n",
              "0              rockport                coal       ton        5377489.0   \n",
              "1  rockport total plant                coal       ton       10486945.0   \n",
              "2                gorgas                coal       ton        2978683.0   \n",
              "3                 barry                coal       ton        3739484.0   \n",
              "4             chickasaw                 gas       mcf          40533.0   \n",
              "\n",
              "   fuel_mmbtu_per_unit  fuel_cost_per_unit_burned  \\\n",
              "0               16.590                      18.59   \n",
              "1               16.592                      18.58   \n",
              "2               24.130                      39.72   \n",
              "3               23.950                      47.21   \n",
              "4                1.000                       2.77   \n",
              "\n",
              "   fuel_cost_per_unit_delivered  fuel_cost_per_mmbtu  \n",
              "0                         18.53                1.121  \n",
              "1                         18.53                1.120  \n",
              "2                         38.12                1.650  \n",
              "3                         45.99                1.970  \n",
              "4                          2.77                2.570  "
            ]
          },
          "metadata": {
            "tags": []
          },
          "execution_count": 3
        }
      ]
    },
    {
      "cell_type": "code",
      "metadata": {
        "id": "iSXgRwsl7COG",
        "colab_type": "code",
        "colab": {},
        "outputId": "5283df90-d063-4fdf-ffc0-0cefd85537c1"
      },
      "source": [
        "# Check for missing values\n",
        "\n",
        "pd.isnull(fuel_data).sum()"
      ],
      "execution_count": null,
      "outputs": [
        {
          "output_type": "execute_result",
          "data": {
            "text/plain": [
              "record_id                         0\n",
              "utility_id_ferc1                  0\n",
              "report_year                       0\n",
              "plant_name_ferc1                  0\n",
              "fuel_type_code_pudl               0\n",
              "fuel_unit                       180\n",
              "fuel_qty_burned                   0\n",
              "fuel_mmbtu_per_unit               0\n",
              "fuel_cost_per_unit_burned         0\n",
              "fuel_cost_per_unit_delivered      0\n",
              "fuel_cost_per_mmbtu               0\n",
              "dtype: int64"
            ]
          },
          "metadata": {
            "tags": []
          },
          "execution_count": 6
        }
      ]
    },
    {
      "cell_type": "code",
      "metadata": {
        "id": "_nph8E187COL",
        "colab_type": "code",
        "colab": {},
        "outputId": "9417ea81-0ca6-4868-c054-38986da888f2"
      },
      "source": [
        "fuel_data.groupby('fuel_unit')['fuel_unit'].count()"
      ],
      "execution_count": null,
      "outputs": [
        {
          "output_type": "execute_result",
          "data": {
            "text/plain": [
              "fuel_unit\n",
              "bbl        7998\n",
              "gal          84\n",
              "gramsU      464\n",
              "kgU         110\n",
              "mcf       11354\n",
              "mmbtu       180\n",
              "mwdth        95\n",
              "mwhth       100\n",
              "ton        8958\n",
              "Name: fuel_unit, dtype: int64"
            ]
          },
          "metadata": {
            "tags": []
          },
          "execution_count": 7
        }
      ]
    },
    {
      "cell_type": "code",
      "metadata": {
        "id": "C9vJT3dN7COS",
        "colab_type": "code",
        "colab": {}
      },
      "source": [
        "# fill in missing fuel_unit missing value with the most common value (mcf)\n",
        "\n",
        "fuel_data['fuel_unit'] = fuel_data['fuel_unit'].fillna(value='mcf')"
      ],
      "execution_count": null,
      "outputs": []
    },
    {
      "cell_type": "code",
      "metadata": {
        "id": "1RyWKLl57COW",
        "colab_type": "code",
        "colab": {},
        "outputId": "fa2ea8ed-41a1-48a5-8429-ae39eb7f7a80"
      },
      "source": [
        "# check if missing value is filled\n",
        "\n",
        "pd.isnull(fuel_data).sum()"
      ],
      "execution_count": null,
      "outputs": [
        {
          "output_type": "execute_result",
          "data": {
            "text/plain": [
              "record_id                       0\n",
              "utility_id_ferc1                0\n",
              "report_year                     0\n",
              "plant_name_ferc1                0\n",
              "fuel_type_code_pudl             0\n",
              "fuel_unit                       0\n",
              "fuel_qty_burned                 0\n",
              "fuel_mmbtu_per_unit             0\n",
              "fuel_cost_per_unit_burned       0\n",
              "fuel_cost_per_unit_delivered    0\n",
              "fuel_cost_per_mmbtu             0\n",
              "dtype: int64"
            ]
          },
          "metadata": {
            "tags": []
          },
          "execution_count": 12
        }
      ]
    },
    {
      "cell_type": "code",
      "metadata": {
        "id": "93r7oOhF7COc",
        "colab_type": "code",
        "colab": {},
        "outputId": "32aac129-4b08-45bf-ec9e-7c2a1984e798"
      },
      "source": [
        "fuel_data.groupby('report_year')['report_year'].count()"
      ],
      "execution_count": null,
      "outputs": [
        {
          "output_type": "execute_result",
          "data": {
            "text/plain": [
              "report_year\n",
              "1994    1235\n",
              "1995    1201\n",
              "1996    1088\n",
              "1997    1094\n",
              "1998    1107\n",
              "1999    1050\n",
              "2000    1373\n",
              "2001    1356\n",
              "2002    1205\n",
              "2003    1211\n",
              "2004    1192\n",
              "2005    1269\n",
              "2006    1243\n",
              "2007    1264\n",
              "2008    1228\n",
              "2009    1222\n",
              "2010    1261\n",
              "2011    1240\n",
              "2012    1243\n",
              "2013    1199\n",
              "2014    1171\n",
              "2015    1093\n",
              "2016    1034\n",
              "2017     993\n",
              "2018     951\n",
              "Name: report_year, dtype: int64"
            ]
          },
          "metadata": {
            "tags": []
          },
          "execution_count": 13
        }
      ]
    },
    {
      "cell_type": "code",
      "metadata": {
        "id": "jJHdb7vF7COk",
        "colab_type": "code",
        "colab": {},
        "outputId": "0677b9b7-a961-4941-f2a2-1d74bd9783ff"
      },
      "source": [
        "fuel_data.groupby('fuel_type_code_pudl')['fuel_type_code_pudl'].count()"
      ],
      "execution_count": null,
      "outputs": [
        {
          "output_type": "execute_result",
          "data": {
            "text/plain": [
              "fuel_type_code_pudl\n",
              "coal        8547\n",
              "gas        11486\n",
              "nuclear      818\n",
              "oil         8064\n",
              "other        167\n",
              "waste        441\n",
              "Name: fuel_type_code_pudl, dtype: int64"
            ]
          },
          "metadata": {
            "tags": []
          },
          "execution_count": 14
        }
      ]
    },
    {
      "cell_type": "code",
      "metadata": {
        "id": "g-uZH4AU7COo",
        "colab_type": "code",
        "colab": {},
        "outputId": "1fa8a180-0371-4704-b25a-7e92bdf80703"
      },
      "source": [
        "fuel_data.groupby('plant_name_ferc1')['plant_name_ferc1'].count()"
      ],
      "execution_count": null,
      "outputs": [
        {
          "output_type": "execute_result",
          "data": {
            "text/plain": [
              "plant_name_ferc1\n",
              "(1)sta98                1\n",
              "(2) scriba sta. 99      1\n",
              "(n) contra costa        1\n",
              "(n) pittsburg           1\n",
              "(n)(t)moss landing      1\n",
              "                       ..\n",
              "zimmer- aepgr share     2\n",
              "zion                    3\n",
              "zorn                   12\n",
              "zorn ct                10\n",
              "zuni                   17\n",
              "Name: plant_name_ferc1, Length: 2315, dtype: int64"
            ]
          },
          "metadata": {
            "tags": []
          },
          "execution_count": 22
        }
      ]
    },
    {
      "cell_type": "code",
      "metadata": {
        "id": "LnU1Kegn7COs",
        "colab_type": "code",
        "colab": {}
      },
      "source": [
        "count = pd.DataFrame(fuel_data.groupby(['plant_name_ferc1', 'fuel_unit'])['fuel_unit']).count()"
      ],
      "execution_count": null,
      "outputs": []
    },
    {
      "cell_type": "code",
      "metadata": {
        "id": "TDZlpdoO7COw",
        "colab_type": "code",
        "colab": {},
        "outputId": "a9c37214-0d58-4051-acce-c890e4e26171"
      },
      "source": [
        "count"
      ],
      "execution_count": null,
      "outputs": [
        {
          "output_type": "execute_result",
          "data": {
            "text/plain": [
              "0    3574\n",
              "1    3574\n",
              "dtype: int64"
            ]
          },
          "metadata": {
            "tags": []
          },
          "execution_count": 24
        }
      ]
    },
    {
      "cell_type": "code",
      "metadata": {
        "id": "LTZ3N4xL7CO2",
        "colab_type": "code",
        "colab": {}
      },
      "source": [
        "count_of_diff_fuel_unit = pd.DataFrame(fuel_data.groupby(['fuel_type_code_pudl', 'fuel_unit'])['fuel_unit']).count()"
      ],
      "execution_count": null,
      "outputs": []
    },
    {
      "cell_type": "code",
      "metadata": {
        "id": "mYyTjNDQ7CO6",
        "colab_type": "code",
        "colab": {},
        "outputId": "044e3e5c-b96d-461f-ecd9-c139bc4321e5"
      },
      "source": [
        "count_of_diff_fuel_unit"
      ],
      "execution_count": null,
      "outputs": [
        {
          "output_type": "execute_result",
          "data": {
            "text/plain": [
              "0    25\n",
              "1    25\n",
              "dtype: int64"
            ]
          },
          "metadata": {
            "tags": []
          },
          "execution_count": 26
        }
      ]
    },
    {
      "cell_type": "code",
      "metadata": {
        "id": "eYcdKTCP7CO-",
        "colab_type": "code",
        "colab": {},
        "outputId": "42968091-7d7f-4df0-b9a8-5ef177c4eaee"
      },
      "source": [
        "pd.crosstab(fuel_data['fuel_type_code_pudl'], fuel_data['fuel_unit'])"
      ],
      "execution_count": null,
      "outputs": [
        {
          "output_type": "execute_result",
          "data": {
            "text/html": [
              "<div>\n",
              "<style scoped>\n",
              "    .dataframe tbody tr th:only-of-type {\n",
              "        vertical-align: middle;\n",
              "    }\n",
              "\n",
              "    .dataframe tbody tr th {\n",
              "        vertical-align: top;\n",
              "    }\n",
              "\n",
              "    .dataframe thead th {\n",
              "        text-align: right;\n",
              "    }\n",
              "</style>\n",
              "<table border=\"1\" class=\"dataframe\">\n",
              "  <thead>\n",
              "    <tr style=\"text-align: right;\">\n",
              "      <th>fuel_unit</th>\n",
              "      <th>bbl</th>\n",
              "      <th>gal</th>\n",
              "      <th>gramsU</th>\n",
              "      <th>kgU</th>\n",
              "      <th>mcf</th>\n",
              "      <th>mmbtu</th>\n",
              "      <th>mwdth</th>\n",
              "      <th>mwhth</th>\n",
              "      <th>ton</th>\n",
              "    </tr>\n",
              "    <tr>\n",
              "      <th>fuel_type_code_pudl</th>\n",
              "      <th></th>\n",
              "      <th></th>\n",
              "      <th></th>\n",
              "      <th></th>\n",
              "      <th></th>\n",
              "      <th></th>\n",
              "      <th></th>\n",
              "      <th></th>\n",
              "      <th></th>\n",
              "    </tr>\n",
              "  </thead>\n",
              "  <tbody>\n",
              "    <tr>\n",
              "      <th>coal</th>\n",
              "      <td>1</td>\n",
              "      <td>0</td>\n",
              "      <td>0</td>\n",
              "      <td>0</td>\n",
              "      <td>56</td>\n",
              "      <td>52</td>\n",
              "      <td>0</td>\n",
              "      <td>0</td>\n",
              "      <td>8438</td>\n",
              "    </tr>\n",
              "    <tr>\n",
              "      <th>gas</th>\n",
              "      <td>2</td>\n",
              "      <td>0</td>\n",
              "      <td>0</td>\n",
              "      <td>0</td>\n",
              "      <td>11386</td>\n",
              "      <td>94</td>\n",
              "      <td>0</td>\n",
              "      <td>0</td>\n",
              "      <td>4</td>\n",
              "    </tr>\n",
              "    <tr>\n",
              "      <th>nuclear</th>\n",
              "      <td>0</td>\n",
              "      <td>0</td>\n",
              "      <td>464</td>\n",
              "      <td>110</td>\n",
              "      <td>15</td>\n",
              "      <td>34</td>\n",
              "      <td>95</td>\n",
              "      <td>100</td>\n",
              "      <td>0</td>\n",
              "    </tr>\n",
              "    <tr>\n",
              "      <th>oil</th>\n",
              "      <td>7952</td>\n",
              "      <td>81</td>\n",
              "      <td>0</td>\n",
              "      <td>0</td>\n",
              "      <td>28</td>\n",
              "      <td>0</td>\n",
              "      <td>0</td>\n",
              "      <td>0</td>\n",
              "      <td>3</td>\n",
              "    </tr>\n",
              "    <tr>\n",
              "      <th>other</th>\n",
              "      <td>42</td>\n",
              "      <td>3</td>\n",
              "      <td>0</td>\n",
              "      <td>0</td>\n",
              "      <td>45</td>\n",
              "      <td>0</td>\n",
              "      <td>0</td>\n",
              "      <td>0</td>\n",
              "      <td>77</td>\n",
              "    </tr>\n",
              "    <tr>\n",
              "      <th>waste</th>\n",
              "      <td>1</td>\n",
              "      <td>0</td>\n",
              "      <td>0</td>\n",
              "      <td>0</td>\n",
              "      <td>4</td>\n",
              "      <td>0</td>\n",
              "      <td>0</td>\n",
              "      <td>0</td>\n",
              "      <td>436</td>\n",
              "    </tr>\n",
              "  </tbody>\n",
              "</table>\n",
              "</div>"
            ],
            "text/plain": [
              "fuel_unit             bbl  gal  gramsU  kgU    mcf  mmbtu  mwdth  mwhth   ton\n",
              "fuel_type_code_pudl                                                          \n",
              "coal                    1    0       0    0     56     52      0      0  8438\n",
              "gas                     2    0       0    0  11386     94      0      0     4\n",
              "nuclear                 0    0     464  110     15     34     95    100     0\n",
              "oil                  7952   81       0    0     28      0      0      0     3\n",
              "other                  42    3       0    0     45      0      0      0    77\n",
              "waste                   1    0       0    0      4      0      0      0   436"
            ]
          },
          "metadata": {
            "tags": []
          },
          "execution_count": 27
        }
      ]
    },
    {
      "cell_type": "code",
      "metadata": {
        "id": "PC9hcJlt7CPC",
        "colab_type": "code",
        "colab": {},
        "outputId": "23bf91fb-c093-42a6-9d97-b134d5ab265f"
      },
      "source": [
        "pd.crosstab(fuel_data['plant_name_ferc1'], fuel_data['fuel_unit'])"
      ],
      "execution_count": null,
      "outputs": [
        {
          "output_type": "execute_result",
          "data": {
            "text/html": [
              "<div>\n",
              "<style scoped>\n",
              "    .dataframe tbody tr th:only-of-type {\n",
              "        vertical-align: middle;\n",
              "    }\n",
              "\n",
              "    .dataframe tbody tr th {\n",
              "        vertical-align: top;\n",
              "    }\n",
              "\n",
              "    .dataframe thead th {\n",
              "        text-align: right;\n",
              "    }\n",
              "</style>\n",
              "<table border=\"1\" class=\"dataframe\">\n",
              "  <thead>\n",
              "    <tr style=\"text-align: right;\">\n",
              "      <th>fuel_unit</th>\n",
              "      <th>bbl</th>\n",
              "      <th>gal</th>\n",
              "      <th>gramsU</th>\n",
              "      <th>kgU</th>\n",
              "      <th>mcf</th>\n",
              "      <th>mmbtu</th>\n",
              "      <th>mwdth</th>\n",
              "      <th>mwhth</th>\n",
              "      <th>ton</th>\n",
              "    </tr>\n",
              "    <tr>\n",
              "      <th>plant_name_ferc1</th>\n",
              "      <th></th>\n",
              "      <th></th>\n",
              "      <th></th>\n",
              "      <th></th>\n",
              "      <th></th>\n",
              "      <th></th>\n",
              "      <th></th>\n",
              "      <th></th>\n",
              "      <th></th>\n",
              "    </tr>\n",
              "  </thead>\n",
              "  <tbody>\n",
              "    <tr>\n",
              "      <th>(1)sta98</th>\n",
              "      <td>0</td>\n",
              "      <td>0</td>\n",
              "      <td>0</td>\n",
              "      <td>0</td>\n",
              "      <td>1</td>\n",
              "      <td>0</td>\n",
              "      <td>0</td>\n",
              "      <td>0</td>\n",
              "      <td>0</td>\n",
              "    </tr>\n",
              "    <tr>\n",
              "      <th>(2) scriba sta. 99</th>\n",
              "      <td>0</td>\n",
              "      <td>0</td>\n",
              "      <td>1</td>\n",
              "      <td>0</td>\n",
              "      <td>0</td>\n",
              "      <td>0</td>\n",
              "      <td>0</td>\n",
              "      <td>0</td>\n",
              "      <td>0</td>\n",
              "    </tr>\n",
              "    <tr>\n",
              "      <th>(n) contra costa</th>\n",
              "      <td>0</td>\n",
              "      <td>0</td>\n",
              "      <td>0</td>\n",
              "      <td>0</td>\n",
              "      <td>1</td>\n",
              "      <td>0</td>\n",
              "      <td>0</td>\n",
              "      <td>0</td>\n",
              "      <td>0</td>\n",
              "    </tr>\n",
              "    <tr>\n",
              "      <th>(n) pittsburg</th>\n",
              "      <td>0</td>\n",
              "      <td>0</td>\n",
              "      <td>0</td>\n",
              "      <td>0</td>\n",
              "      <td>1</td>\n",
              "      <td>0</td>\n",
              "      <td>0</td>\n",
              "      <td>0</td>\n",
              "      <td>0</td>\n",
              "    </tr>\n",
              "    <tr>\n",
              "      <th>(n)(t)moss landing</th>\n",
              "      <td>0</td>\n",
              "      <td>0</td>\n",
              "      <td>0</td>\n",
              "      <td>0</td>\n",
              "      <td>1</td>\n",
              "      <td>0</td>\n",
              "      <td>0</td>\n",
              "      <td>0</td>\n",
              "      <td>0</td>\n",
              "    </tr>\n",
              "    <tr>\n",
              "      <th>...</th>\n",
              "      <td>...</td>\n",
              "      <td>...</td>\n",
              "      <td>...</td>\n",
              "      <td>...</td>\n",
              "      <td>...</td>\n",
              "      <td>...</td>\n",
              "      <td>...</td>\n",
              "      <td>...</td>\n",
              "      <td>...</td>\n",
              "    </tr>\n",
              "    <tr>\n",
              "      <th>zimmer- aepgr share</th>\n",
              "      <td>1</td>\n",
              "      <td>0</td>\n",
              "      <td>0</td>\n",
              "      <td>0</td>\n",
              "      <td>0</td>\n",
              "      <td>0</td>\n",
              "      <td>0</td>\n",
              "      <td>0</td>\n",
              "      <td>1</td>\n",
              "    </tr>\n",
              "    <tr>\n",
              "      <th>zion</th>\n",
              "      <td>0</td>\n",
              "      <td>0</td>\n",
              "      <td>3</td>\n",
              "      <td>0</td>\n",
              "      <td>0</td>\n",
              "      <td>0</td>\n",
              "      <td>0</td>\n",
              "      <td>0</td>\n",
              "      <td>0</td>\n",
              "    </tr>\n",
              "    <tr>\n",
              "      <th>zorn</th>\n",
              "      <td>0</td>\n",
              "      <td>0</td>\n",
              "      <td>0</td>\n",
              "      <td>0</td>\n",
              "      <td>12</td>\n",
              "      <td>0</td>\n",
              "      <td>0</td>\n",
              "      <td>0</td>\n",
              "      <td>0</td>\n",
              "    </tr>\n",
              "    <tr>\n",
              "      <th>zorn ct</th>\n",
              "      <td>0</td>\n",
              "      <td>0</td>\n",
              "      <td>0</td>\n",
              "      <td>0</td>\n",
              "      <td>10</td>\n",
              "      <td>0</td>\n",
              "      <td>0</td>\n",
              "      <td>0</td>\n",
              "      <td>0</td>\n",
              "    </tr>\n",
              "    <tr>\n",
              "      <th>zuni</th>\n",
              "      <td>1</td>\n",
              "      <td>0</td>\n",
              "      <td>0</td>\n",
              "      <td>0</td>\n",
              "      <td>16</td>\n",
              "      <td>0</td>\n",
              "      <td>0</td>\n",
              "      <td>0</td>\n",
              "      <td>0</td>\n",
              "    </tr>\n",
              "  </tbody>\n",
              "</table>\n",
              "<p>2315 rows × 9 columns</p>\n",
              "</div>"
            ],
            "text/plain": [
              "fuel_unit            bbl  gal  gramsU  kgU  mcf  mmbtu  mwdth  mwhth  ton\n",
              "plant_name_ferc1                                                         \n",
              "(1)sta98               0    0       0    0    1      0      0      0    0\n",
              "(2) scriba sta. 99     0    0       1    0    0      0      0      0    0\n",
              "(n) contra costa       0    0       0    0    1      0      0      0    0\n",
              "(n) pittsburg          0    0       0    0    1      0      0      0    0\n",
              "(n)(t)moss landing     0    0       0    0    1      0      0      0    0\n",
              "...                  ...  ...     ...  ...  ...    ...    ...    ...  ...\n",
              "zimmer- aepgr share    1    0       0    0    0      0      0      0    1\n",
              "zion                   0    0       3    0    0      0      0      0    0\n",
              "zorn                   0    0       0    0   12      0      0      0    0\n",
              "zorn ct                0    0       0    0   10      0      0      0    0\n",
              "zuni                   1    0       0    0   16      0      0      0    0\n",
              "\n",
              "[2315 rows x 9 columns]"
            ]
          },
          "metadata": {
            "tags": []
          },
          "execution_count": 28
        }
      ]
    },
    {
      "cell_type": "code",
      "metadata": {
        "id": "j0_Ps9Pa7CPG",
        "colab_type": "code",
        "colab": {},
        "outputId": "41e467c9-836f-4b51-e9b5-5fa853cfaf36"
      },
      "source": [
        "pd.crosstab(fuel_data['fuel_qty_burned'], fuel_data['plant_name_ferc1'])"
      ],
      "execution_count": null,
      "outputs": [
        {
          "output_type": "execute_result",
          "data": {
            "text/html": [
              "<div>\n",
              "<style scoped>\n",
              "    .dataframe tbody tr th:only-of-type {\n",
              "        vertical-align: middle;\n",
              "    }\n",
              "\n",
              "    .dataframe tbody tr th {\n",
              "        vertical-align: top;\n",
              "    }\n",
              "\n",
              "    .dataframe thead th {\n",
              "        text-align: right;\n",
              "    }\n",
              "</style>\n",
              "<table border=\"1\" class=\"dataframe\">\n",
              "  <thead>\n",
              "    <tr style=\"text-align: right;\">\n",
              "      <th>plant_name_ferc1</th>\n",
              "      <th>(1)sta98</th>\n",
              "      <th>(2) scriba sta. 99</th>\n",
              "      <th>(n) contra costa</th>\n",
              "      <th>(n) pittsburg</th>\n",
              "      <th>(n)(t)moss landing</th>\n",
              "      <th>(p) mobile unit 2</th>\n",
              "      <th>(p) mobile unit 3</th>\n",
              "      <th>* ar nuclear one</th>\n",
              "      <th>* big cajun 2 unit 3</th>\n",
              "      <th>* campbell 3</th>\n",
              "      <th>...</th>\n",
              "      <th>zimmer - opco share</th>\n",
              "      <th>zimmer -csp share</th>\n",
              "      <th>zimmer cge</th>\n",
              "      <th>zimmer csp shr</th>\n",
              "      <th>zimmer deo</th>\n",
              "      <th>zimmer- aepgr share</th>\n",
              "      <th>zion</th>\n",
              "      <th>zorn</th>\n",
              "      <th>zorn ct</th>\n",
              "      <th>zuni</th>\n",
              "    </tr>\n",
              "    <tr>\n",
              "      <th>fuel_qty_burned</th>\n",
              "      <th></th>\n",
              "      <th></th>\n",
              "      <th></th>\n",
              "      <th></th>\n",
              "      <th></th>\n",
              "      <th></th>\n",
              "      <th></th>\n",
              "      <th></th>\n",
              "      <th></th>\n",
              "      <th></th>\n",
              "      <th></th>\n",
              "      <th></th>\n",
              "      <th></th>\n",
              "      <th></th>\n",
              "      <th></th>\n",
              "      <th></th>\n",
              "      <th></th>\n",
              "      <th></th>\n",
              "      <th></th>\n",
              "      <th></th>\n",
              "      <th></th>\n",
              "    </tr>\n",
              "  </thead>\n",
              "  <tbody>\n",
              "    <tr>\n",
              "      <th>1.0</th>\n",
              "      <td>0</td>\n",
              "      <td>0</td>\n",
              "      <td>0</td>\n",
              "      <td>0</td>\n",
              "      <td>0</td>\n",
              "      <td>0</td>\n",
              "      <td>0</td>\n",
              "      <td>0</td>\n",
              "      <td>0</td>\n",
              "      <td>0</td>\n",
              "      <td>...</td>\n",
              "      <td>0</td>\n",
              "      <td>0</td>\n",
              "      <td>0</td>\n",
              "      <td>0</td>\n",
              "      <td>0</td>\n",
              "      <td>0</td>\n",
              "      <td>0</td>\n",
              "      <td>0</td>\n",
              "      <td>0</td>\n",
              "      <td>0</td>\n",
              "    </tr>\n",
              "    <tr>\n",
              "      <th>2.0</th>\n",
              "      <td>0</td>\n",
              "      <td>0</td>\n",
              "      <td>0</td>\n",
              "      <td>0</td>\n",
              "      <td>0</td>\n",
              "      <td>0</td>\n",
              "      <td>0</td>\n",
              "      <td>0</td>\n",
              "      <td>0</td>\n",
              "      <td>0</td>\n",
              "      <td>...</td>\n",
              "      <td>0</td>\n",
              "      <td>0</td>\n",
              "      <td>0</td>\n",
              "      <td>0</td>\n",
              "      <td>0</td>\n",
              "      <td>0</td>\n",
              "      <td>0</td>\n",
              "      <td>0</td>\n",
              "      <td>0</td>\n",
              "      <td>0</td>\n",
              "    </tr>\n",
              "    <tr>\n",
              "      <th>3.0</th>\n",
              "      <td>0</td>\n",
              "      <td>0</td>\n",
              "      <td>0</td>\n",
              "      <td>0</td>\n",
              "      <td>0</td>\n",
              "      <td>0</td>\n",
              "      <td>0</td>\n",
              "      <td>0</td>\n",
              "      <td>0</td>\n",
              "      <td>0</td>\n",
              "      <td>...</td>\n",
              "      <td>0</td>\n",
              "      <td>0</td>\n",
              "      <td>0</td>\n",
              "      <td>0</td>\n",
              "      <td>0</td>\n",
              "      <td>0</td>\n",
              "      <td>0</td>\n",
              "      <td>0</td>\n",
              "      <td>1</td>\n",
              "      <td>0</td>\n",
              "    </tr>\n",
              "    <tr>\n",
              "      <th>4.0</th>\n",
              "      <td>0</td>\n",
              "      <td>0</td>\n",
              "      <td>0</td>\n",
              "      <td>0</td>\n",
              "      <td>0</td>\n",
              "      <td>0</td>\n",
              "      <td>0</td>\n",
              "      <td>0</td>\n",
              "      <td>0</td>\n",
              "      <td>0</td>\n",
              "      <td>...</td>\n",
              "      <td>0</td>\n",
              "      <td>0</td>\n",
              "      <td>0</td>\n",
              "      <td>0</td>\n",
              "      <td>0</td>\n",
              "      <td>0</td>\n",
              "      <td>0</td>\n",
              "      <td>0</td>\n",
              "      <td>0</td>\n",
              "      <td>0</td>\n",
              "    </tr>\n",
              "    <tr>\n",
              "      <th>5.0</th>\n",
              "      <td>0</td>\n",
              "      <td>0</td>\n",
              "      <td>0</td>\n",
              "      <td>0</td>\n",
              "      <td>0</td>\n",
              "      <td>0</td>\n",
              "      <td>0</td>\n",
              "      <td>0</td>\n",
              "      <td>0</td>\n",
              "      <td>0</td>\n",
              "      <td>...</td>\n",
              "      <td>0</td>\n",
              "      <td>0</td>\n",
              "      <td>0</td>\n",
              "      <td>0</td>\n",
              "      <td>0</td>\n",
              "      <td>0</td>\n",
              "      <td>0</td>\n",
              "      <td>0</td>\n",
              "      <td>0</td>\n",
              "      <td>0</td>\n",
              "    </tr>\n",
              "    <tr>\n",
              "      <th>...</th>\n",
              "      <td>...</td>\n",
              "      <td>...</td>\n",
              "      <td>...</td>\n",
              "      <td>...</td>\n",
              "      <td>...</td>\n",
              "      <td>...</td>\n",
              "      <td>...</td>\n",
              "      <td>...</td>\n",
              "      <td>...</td>\n",
              "      <td>...</td>\n",
              "      <td>...</td>\n",
              "      <td>...</td>\n",
              "      <td>...</td>\n",
              "      <td>...</td>\n",
              "      <td>...</td>\n",
              "      <td>...</td>\n",
              "      <td>...</td>\n",
              "      <td>...</td>\n",
              "      <td>...</td>\n",
              "      <td>...</td>\n",
              "      <td>...</td>\n",
              "    </tr>\n",
              "    <tr>\n",
              "      <th>147837343.0</th>\n",
              "      <td>0</td>\n",
              "      <td>0</td>\n",
              "      <td>0</td>\n",
              "      <td>0</td>\n",
              "      <td>0</td>\n",
              "      <td>0</td>\n",
              "      <td>0</td>\n",
              "      <td>0</td>\n",
              "      <td>0</td>\n",
              "      <td>0</td>\n",
              "      <td>...</td>\n",
              "      <td>0</td>\n",
              "      <td>0</td>\n",
              "      <td>0</td>\n",
              "      <td>0</td>\n",
              "      <td>0</td>\n",
              "      <td>0</td>\n",
              "      <td>0</td>\n",
              "      <td>0</td>\n",
              "      <td>0</td>\n",
              "      <td>0</td>\n",
              "    </tr>\n",
              "    <tr>\n",
              "      <th>166385450.0</th>\n",
              "      <td>0</td>\n",
              "      <td>0</td>\n",
              "      <td>0</td>\n",
              "      <td>0</td>\n",
              "      <td>0</td>\n",
              "      <td>0</td>\n",
              "      <td>0</td>\n",
              "      <td>0</td>\n",
              "      <td>0</td>\n",
              "      <td>0</td>\n",
              "      <td>...</td>\n",
              "      <td>0</td>\n",
              "      <td>0</td>\n",
              "      <td>0</td>\n",
              "      <td>0</td>\n",
              "      <td>0</td>\n",
              "      <td>0</td>\n",
              "      <td>0</td>\n",
              "      <td>0</td>\n",
              "      <td>0</td>\n",
              "      <td>0</td>\n",
              "    </tr>\n",
              "    <tr>\n",
              "      <th>198577395.0</th>\n",
              "      <td>0</td>\n",
              "      <td>0</td>\n",
              "      <td>0</td>\n",
              "      <td>0</td>\n",
              "      <td>0</td>\n",
              "      <td>0</td>\n",
              "      <td>0</td>\n",
              "      <td>0</td>\n",
              "      <td>0</td>\n",
              "      <td>0</td>\n",
              "      <td>...</td>\n",
              "      <td>0</td>\n",
              "      <td>0</td>\n",
              "      <td>0</td>\n",
              "      <td>0</td>\n",
              "      <td>0</td>\n",
              "      <td>0</td>\n",
              "      <td>0</td>\n",
              "      <td>0</td>\n",
              "      <td>0</td>\n",
              "      <td>0</td>\n",
              "    </tr>\n",
              "    <tr>\n",
              "      <th>417297683.0</th>\n",
              "      <td>0</td>\n",
              "      <td>0</td>\n",
              "      <td>0</td>\n",
              "      <td>0</td>\n",
              "      <td>0</td>\n",
              "      <td>0</td>\n",
              "      <td>0</td>\n",
              "      <td>0</td>\n",
              "      <td>0</td>\n",
              "      <td>0</td>\n",
              "      <td>...</td>\n",
              "      <td>0</td>\n",
              "      <td>0</td>\n",
              "      <td>0</td>\n",
              "      <td>0</td>\n",
              "      <td>0</td>\n",
              "      <td>0</td>\n",
              "      <td>0</td>\n",
              "      <td>0</td>\n",
              "      <td>0</td>\n",
              "      <td>0</td>\n",
              "    </tr>\n",
              "    <tr>\n",
              "      <th>555894250.0</th>\n",
              "      <td>0</td>\n",
              "      <td>0</td>\n",
              "      <td>0</td>\n",
              "      <td>0</td>\n",
              "      <td>0</td>\n",
              "      <td>0</td>\n",
              "      <td>0</td>\n",
              "      <td>0</td>\n",
              "      <td>0</td>\n",
              "      <td>0</td>\n",
              "      <td>...</td>\n",
              "      <td>0</td>\n",
              "      <td>0</td>\n",
              "      <td>0</td>\n",
              "      <td>0</td>\n",
              "      <td>0</td>\n",
              "      <td>0</td>\n",
              "      <td>0</td>\n",
              "      <td>0</td>\n",
              "      <td>0</td>\n",
              "      <td>0</td>\n",
              "    </tr>\n",
              "  </tbody>\n",
              "</table>\n",
              "<p>26432 rows × 2315 columns</p>\n",
              "</div>"
            ],
            "text/plain": [
              "plant_name_ferc1  (1)sta98  (2) scriba sta. 99  (n) contra costa  \\\n",
              "fuel_qty_burned                                                    \n",
              "1.0                      0                   0                 0   \n",
              "2.0                      0                   0                 0   \n",
              "3.0                      0                   0                 0   \n",
              "4.0                      0                   0                 0   \n",
              "5.0                      0                   0                 0   \n",
              "...                    ...                 ...               ...   \n",
              "147837343.0              0                   0                 0   \n",
              "166385450.0              0                   0                 0   \n",
              "198577395.0              0                   0                 0   \n",
              "417297683.0              0                   0                 0   \n",
              "555894250.0              0                   0                 0   \n",
              "\n",
              "plant_name_ferc1  (n) pittsburg  (n)(t)moss landing  (p) mobile unit 2  \\\n",
              "fuel_qty_burned                                                          \n",
              "1.0                           0                   0                  0   \n",
              "2.0                           0                   0                  0   \n",
              "3.0                           0                   0                  0   \n",
              "4.0                           0                   0                  0   \n",
              "5.0                           0                   0                  0   \n",
              "...                         ...                 ...                ...   \n",
              "147837343.0                   0                   0                  0   \n",
              "166385450.0                   0                   0                  0   \n",
              "198577395.0                   0                   0                  0   \n",
              "417297683.0                   0                   0                  0   \n",
              "555894250.0                   0                   0                  0   \n",
              "\n",
              "plant_name_ferc1  (p) mobile unit 3  * ar nuclear one  * big cajun 2 unit 3  \\\n",
              "fuel_qty_burned                                                               \n",
              "1.0                               0                 0                     0   \n",
              "2.0                               0                 0                     0   \n",
              "3.0                               0                 0                     0   \n",
              "4.0                               0                 0                     0   \n",
              "5.0                               0                 0                     0   \n",
              "...                             ...               ...                   ...   \n",
              "147837343.0                       0                 0                     0   \n",
              "166385450.0                       0                 0                     0   \n",
              "198577395.0                       0                 0                     0   \n",
              "417297683.0                       0                 0                     0   \n",
              "555894250.0                       0                 0                     0   \n",
              "\n",
              "plant_name_ferc1  * campbell 3  ...  zimmer - opco share  zimmer -csp share  \\\n",
              "fuel_qty_burned                 ...                                           \n",
              "1.0                          0  ...                    0                  0   \n",
              "2.0                          0  ...                    0                  0   \n",
              "3.0                          0  ...                    0                  0   \n",
              "4.0                          0  ...                    0                  0   \n",
              "5.0                          0  ...                    0                  0   \n",
              "...                        ...  ...                  ...                ...   \n",
              "147837343.0                  0  ...                    0                  0   \n",
              "166385450.0                  0  ...                    0                  0   \n",
              "198577395.0                  0  ...                    0                  0   \n",
              "417297683.0                  0  ...                    0                  0   \n",
              "555894250.0                  0  ...                    0                  0   \n",
              "\n",
              "plant_name_ferc1  zimmer cge  zimmer csp shr  zimmer deo  zimmer- aepgr share  \\\n",
              "fuel_qty_burned                                                                 \n",
              "1.0                        0               0           0                    0   \n",
              "2.0                        0               0           0                    0   \n",
              "3.0                        0               0           0                    0   \n",
              "4.0                        0               0           0                    0   \n",
              "5.0                        0               0           0                    0   \n",
              "...                      ...             ...         ...                  ...   \n",
              "147837343.0                0               0           0                    0   \n",
              "166385450.0                0               0           0                    0   \n",
              "198577395.0                0               0           0                    0   \n",
              "417297683.0                0               0           0                    0   \n",
              "555894250.0                0               0           0                    0   \n",
              "\n",
              "plant_name_ferc1  zion  zorn  zorn ct  zuni  \n",
              "fuel_qty_burned                              \n",
              "1.0                  0     0        0     0  \n",
              "2.0                  0     0        0     0  \n",
              "3.0                  0     0        1     0  \n",
              "4.0                  0     0        0     0  \n",
              "5.0                  0     0        0     0  \n",
              "...                ...   ...      ...   ...  \n",
              "147837343.0          0     0        0     0  \n",
              "166385450.0          0     0        0     0  \n",
              "198577395.0          0     0        0     0  \n",
              "417297683.0          0     0        0     0  \n",
              "555894250.0          0     0        0     0  \n",
              "\n",
              "[26432 rows x 2315 columns]"
            ]
          },
          "metadata": {
            "tags": []
          },
          "execution_count": 29
        }
      ]
    },
    {
      "cell_type": "code",
      "metadata": {
        "id": "rWuXnyZP7CPK",
        "colab_type": "code",
        "colab": {}
      },
      "source": [
        "count_of_diff_fuel_unit = pd.DataFrame(fuel_data.groupby(['fuel_qty_burned', 'plant_name_ferc1'])['plant_name_ferc1']).count()"
      ],
      "execution_count": null,
      "outputs": []
    },
    {
      "cell_type": "code",
      "metadata": {
        "id": "Yl3nKuRT7CPP",
        "colab_type": "code",
        "colab": {},
        "outputId": "972bd5b7-857e-48e7-f7a8-d83875b38dcd"
      },
      "source": [
        "count_of_diff_fuel_unit"
      ],
      "execution_count": null,
      "outputs": [
        {
          "output_type": "execute_result",
          "data": {
            "text/plain": [
              "0    29258\n",
              "1    29258\n",
              "dtype: int64"
            ]
          },
          "metadata": {
            "tags": []
          },
          "execution_count": 31
        }
      ]
    },
    {
      "cell_type": "code",
      "metadata": {
        "id": "wgX5Q9Aq7CPU",
        "colab_type": "code",
        "colab": {}
      },
      "source": [
        "count_of_diff_fuel_burned = pd.DataFrame(fuel_data.groupby(['plant_name_ferc1', 'fuel_qty_burned'])['fuel_qty_burned']).count()"
      ],
      "execution_count": null,
      "outputs": []
    },
    {
      "cell_type": "code",
      "metadata": {
        "id": "mWnbhaGI7CPZ",
        "colab_type": "code",
        "colab": {},
        "outputId": "db0050ee-ca21-4968-ade8-9dfee2f5938c"
      },
      "source": [
        "count_of_diff_fuel_burned"
      ],
      "execution_count": null,
      "outputs": [
        {
          "output_type": "execute_result",
          "data": {
            "text/plain": [
              "0    29258\n",
              "1    29258\n",
              "dtype: int64"
            ]
          },
          "metadata": {
            "tags": []
          },
          "execution_count": 35
        }
      ]
    }
  ]
}